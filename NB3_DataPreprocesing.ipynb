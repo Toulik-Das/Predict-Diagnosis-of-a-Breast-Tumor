{
 "cells": [
  {
   "cell_type": "markdown",
   "metadata": {
    "collapsed": true
   },
   "source": [
    "## Notebook 3: Pre-Processing the data\n",
    "\n",
    "### Introduction\n",
    "\n",
    " [Data preprocessing](http://www.cs.ccsu.edu/~markov/ccsu_courses/datamining-3.html) is a crucial step for any data analysis problem.  It is often a very good idea to prepare your data in such way to best expose the structure of the problem to the machine learning algorithms that you intend to use.This involves a number of activities such as:\n",
    "* Assigning numerical values to categorical data;\n",
    "* Handling missing values; and\n",
    "* Normalizing the features (so that features on small scales do not dominate when fitting a model to the data).\n",
    "\n",
    "\n",
    "\n",
    "In Notebook-2 [NB2_Exploratory data analysis](https://github.com/ShiroJean/Breast-cancer-risk-prediction/blob/master/NB2_ExploratoryDataAnalysis.ipynb). I explored the data, to help gain insight on the distribution of the data as well as how the attributes correlate to each other. I identified some features of interest. In this notebook I use feature selection to reduce high-dimension data, feature extraction and transformation for dimensionality reduction. \n",
    "\n",
    "### Goal:\n",
    "Find the most predictive features of the data and filter it so it will enhance the predictive power of the analytics model. \n",
    "\n",
    "#### Load data and essential libraries"
   ]
  },
  {
   "cell_type": "code",
   "execution_count": 1,
   "metadata": {},
   "outputs": [
    {
     "data": {
      "text/html": [
       "<div>\n",
       "<style scoped>\n",
       "    .dataframe tbody tr th:only-of-type {\n",
       "        vertical-align: middle;\n",
       "    }\n",
       "\n",
       "    .dataframe tbody tr th {\n",
       "        vertical-align: top;\n",
       "    }\n",
       "\n",
       "    .dataframe thead th {\n",
       "        text-align: right;\n",
       "    }\n",
       "</style>\n",
       "<table border=\"1\" class=\"dataframe\">\n",
       "  <thead>\n",
       "    <tr style=\"text-align: right;\">\n",
       "      <th></th>\n",
       "      <th>diagnosis</th>\n",
       "      <th>radius_mean</th>\n",
       "      <th>texture_mean</th>\n",
       "      <th>perimeter_mean</th>\n",
       "      <th>area_mean</th>\n",
       "      <th>smoothness_mean</th>\n",
       "      <th>compactness_mean</th>\n",
       "      <th>concavity_mean</th>\n",
       "      <th>concave points_mean</th>\n",
       "      <th>symmetry_mean</th>\n",
       "      <th>...</th>\n",
       "      <th>radius_worst</th>\n",
       "      <th>texture_worst</th>\n",
       "      <th>perimeter_worst</th>\n",
       "      <th>area_worst</th>\n",
       "      <th>smoothness_worst</th>\n",
       "      <th>compactness_worst</th>\n",
       "      <th>concavity_worst</th>\n",
       "      <th>concave points_worst</th>\n",
       "      <th>symmetry_worst</th>\n",
       "      <th>fractal_dimension_worst</th>\n",
       "    </tr>\n",
       "  </thead>\n",
       "  <tbody>\n",
       "    <tr>\n",
       "      <th>0</th>\n",
       "      <td>M</td>\n",
       "      <td>17.99</td>\n",
       "      <td>10.38</td>\n",
       "      <td>122.80</td>\n",
       "      <td>1001.0</td>\n",
       "      <td>0.11840</td>\n",
       "      <td>0.27760</td>\n",
       "      <td>0.3001</td>\n",
       "      <td>0.14710</td>\n",
       "      <td>0.2419</td>\n",
       "      <td>...</td>\n",
       "      <td>25.38</td>\n",
       "      <td>17.33</td>\n",
       "      <td>184.60</td>\n",
       "      <td>2019.0</td>\n",
       "      <td>0.1622</td>\n",
       "      <td>0.6656</td>\n",
       "      <td>0.7119</td>\n",
       "      <td>0.2654</td>\n",
       "      <td>0.4601</td>\n",
       "      <td>0.11890</td>\n",
       "    </tr>\n",
       "    <tr>\n",
       "      <th>1</th>\n",
       "      <td>M</td>\n",
       "      <td>20.57</td>\n",
       "      <td>17.77</td>\n",
       "      <td>132.90</td>\n",
       "      <td>1326.0</td>\n",
       "      <td>0.08474</td>\n",
       "      <td>0.07864</td>\n",
       "      <td>0.0869</td>\n",
       "      <td>0.07017</td>\n",
       "      <td>0.1812</td>\n",
       "      <td>...</td>\n",
       "      <td>24.99</td>\n",
       "      <td>23.41</td>\n",
       "      <td>158.80</td>\n",
       "      <td>1956.0</td>\n",
       "      <td>0.1238</td>\n",
       "      <td>0.1866</td>\n",
       "      <td>0.2416</td>\n",
       "      <td>0.1860</td>\n",
       "      <td>0.2750</td>\n",
       "      <td>0.08902</td>\n",
       "    </tr>\n",
       "    <tr>\n",
       "      <th>2</th>\n",
       "      <td>M</td>\n",
       "      <td>19.69</td>\n",
       "      <td>21.25</td>\n",
       "      <td>130.00</td>\n",
       "      <td>1203.0</td>\n",
       "      <td>0.10960</td>\n",
       "      <td>0.15990</td>\n",
       "      <td>0.1974</td>\n",
       "      <td>0.12790</td>\n",
       "      <td>0.2069</td>\n",
       "      <td>...</td>\n",
       "      <td>23.57</td>\n",
       "      <td>25.53</td>\n",
       "      <td>152.50</td>\n",
       "      <td>1709.0</td>\n",
       "      <td>0.1444</td>\n",
       "      <td>0.4245</td>\n",
       "      <td>0.4504</td>\n",
       "      <td>0.2430</td>\n",
       "      <td>0.3613</td>\n",
       "      <td>0.08758</td>\n",
       "    </tr>\n",
       "    <tr>\n",
       "      <th>3</th>\n",
       "      <td>M</td>\n",
       "      <td>11.42</td>\n",
       "      <td>20.38</td>\n",
       "      <td>77.58</td>\n",
       "      <td>386.1</td>\n",
       "      <td>0.14250</td>\n",
       "      <td>0.28390</td>\n",
       "      <td>0.2414</td>\n",
       "      <td>0.10520</td>\n",
       "      <td>0.2597</td>\n",
       "      <td>...</td>\n",
       "      <td>14.91</td>\n",
       "      <td>26.50</td>\n",
       "      <td>98.87</td>\n",
       "      <td>567.7</td>\n",
       "      <td>0.2098</td>\n",
       "      <td>0.8663</td>\n",
       "      <td>0.6869</td>\n",
       "      <td>0.2575</td>\n",
       "      <td>0.6638</td>\n",
       "      <td>0.17300</td>\n",
       "    </tr>\n",
       "    <tr>\n",
       "      <th>4</th>\n",
       "      <td>M</td>\n",
       "      <td>20.29</td>\n",
       "      <td>14.34</td>\n",
       "      <td>135.10</td>\n",
       "      <td>1297.0</td>\n",
       "      <td>0.10030</td>\n",
       "      <td>0.13280</td>\n",
       "      <td>0.1980</td>\n",
       "      <td>0.10430</td>\n",
       "      <td>0.1809</td>\n",
       "      <td>...</td>\n",
       "      <td>22.54</td>\n",
       "      <td>16.67</td>\n",
       "      <td>152.20</td>\n",
       "      <td>1575.0</td>\n",
       "      <td>0.1374</td>\n",
       "      <td>0.2050</td>\n",
       "      <td>0.4000</td>\n",
       "      <td>0.1625</td>\n",
       "      <td>0.2364</td>\n",
       "      <td>0.07678</td>\n",
       "    </tr>\n",
       "  </tbody>\n",
       "</table>\n",
       "<p>5 rows × 31 columns</p>\n",
       "</div>"
      ],
      "text/plain": [
       "  diagnosis  radius_mean  texture_mean  perimeter_mean  area_mean  \\\n",
       "0         M        17.99         10.38          122.80     1001.0   \n",
       "1         M        20.57         17.77          132.90     1326.0   \n",
       "2         M        19.69         21.25          130.00     1203.0   \n",
       "3         M        11.42         20.38           77.58      386.1   \n",
       "4         M        20.29         14.34          135.10     1297.0   \n",
       "\n",
       "   smoothness_mean  compactness_mean  concavity_mean  concave points_mean  \\\n",
       "0          0.11840           0.27760          0.3001              0.14710   \n",
       "1          0.08474           0.07864          0.0869              0.07017   \n",
       "2          0.10960           0.15990          0.1974              0.12790   \n",
       "3          0.14250           0.28390          0.2414              0.10520   \n",
       "4          0.10030           0.13280          0.1980              0.10430   \n",
       "\n",
       "   symmetry_mean           ...             radius_worst  texture_worst  \\\n",
       "0         0.2419           ...                    25.38          17.33   \n",
       "1         0.1812           ...                    24.99          23.41   \n",
       "2         0.2069           ...                    23.57          25.53   \n",
       "3         0.2597           ...                    14.91          26.50   \n",
       "4         0.1809           ...                    22.54          16.67   \n",
       "\n",
       "   perimeter_worst  area_worst  smoothness_worst  compactness_worst  \\\n",
       "0           184.60      2019.0            0.1622             0.6656   \n",
       "1           158.80      1956.0            0.1238             0.1866   \n",
       "2           152.50      1709.0            0.1444             0.4245   \n",
       "3            98.87       567.7            0.2098             0.8663   \n",
       "4           152.20      1575.0            0.1374             0.2050   \n",
       "\n",
       "   concavity_worst  concave points_worst  symmetry_worst  \\\n",
       "0           0.7119                0.2654          0.4601   \n",
       "1           0.2416                0.1860          0.2750   \n",
       "2           0.4504                0.2430          0.3613   \n",
       "3           0.6869                0.2575          0.6638   \n",
       "4           0.4000                0.1625          0.2364   \n",
       "\n",
       "   fractal_dimension_worst  \n",
       "0                  0.11890  \n",
       "1                  0.08902  \n",
       "2                  0.08758  \n",
       "3                  0.17300  \n",
       "4                  0.07678  \n",
       "\n",
       "[5 rows x 31 columns]"
      ]
     },
     "execution_count": 1,
     "metadata": {},
     "output_type": "execute_result"
    }
   ],
   "source": [
    "%matplotlib inline\n",
    "import matplotlib.pyplot as plt\n",
    "\n",
    "#Load libraries for data processing\n",
    "import pandas as pd #data processing, CSV file I/O (e.g. pd.read_csv)\n",
    "import numpy as np\n",
    "from scipy.stats import norm\n",
    "\n",
    "# visualization\n",
    "import seaborn as sns \n",
    "plt.style.use('fivethirtyeight')\n",
    "sns.set_style(\"white\")\n",
    "\n",
    "\n",
    "plt.rcParams['figure.figsize'] = (8,4) \n",
    "#plt.rcParams['axes.titlesize'] = 'large'\n",
    "\n",
    "data = pd.read_csv('data/clean-data.csv', index_col=False)\n",
    "data.drop('Unnamed: 0',axis=1, inplace=True)\n",
    "data.head()"
   ]
  },
  {
   "cell_type": "markdown",
   "metadata": {},
   "source": [
    "#### Label encoding\n",
    "Here, I assign the 30 features to a NumPy array X, and transform the class labels from their original string representation (M and B) into integers"
   ]
  },
  {
   "cell_type": "code",
   "execution_count": 2,
   "metadata": {},
   "outputs": [],
   "source": [
    "#Assign predictors to a variable of ndarray (matrix) type\n",
    "array = data.values\n",
    "X = array[:,1:31]\n",
    "y = array[:,0]\n"
   ]
  },
  {
   "cell_type": "code",
   "execution_count": 3,
   "metadata": {},
   "outputs": [],
   "source": [
    "#transform the class labels from their original string representation (M and B) into integers\n",
    "from sklearn.preprocessing import LabelEncoder\n",
    "le = LabelEncoder()\n",
    "y = le.fit_transform(y)\n",
    "\n",
    "#Call the transform method of LabelEncorder on two dummy variables\n",
    "#le.transform (['M', 'B'])\n"
   ]
  },
  {
   "cell_type": "markdown",
   "metadata": {
    "collapsed": true
   },
   "source": [
    "> *After encoding the class labels(diagnosis) in an array y, the malignant tumors are now represented as class 1(i.e prescence of cancer cells) and the benign tumors are represented as class 0 (i.e no cancer cells detection), respectively*, illustrated by calling the transform method of LabelEncorder on two dummy variables.**\n",
    "\n",
    "\n",
    "#### Assesing Model Accuracy: Split data into training and test sets\n",
    "\n",
    "The simplest method to evaluate the performance of a machine learning algorithm is to use different training and testing datasets. Here I will\n",
    "* Split the available data into a training set and a testing set. (70% training, 30% test)\n",
    "* Train the algorithm on the first part,\n",
    "* make predictions on the second part and \n",
    "* evaluate the predictions against the expected results. \n",
    "\n",
    "The size of the split can depend on the size and specifics of your dataset, although it is common to use 67% of the data for training and the remaining 33% for testing.\n"
   ]
  },
  {
   "cell_type": "code",
   "execution_count": 4,
   "metadata": {},
   "outputs": [
    {
     "data": {
      "text/plain": [
       "((426, 30), (426,), (143, 30), (143,))"
      ]
     },
     "execution_count": 4,
     "metadata": {},
     "output_type": "execute_result"
    }
   ],
   "source": [
    "from sklearn.model_selection import train_test_split\n",
    "\n",
    "##Split data set in train 70% and test 30%\n",
    "X_train, X_test, y_train, y_test = train_test_split( X, y, test_size=0.25, random_state=7)\n",
    "X_train.shape, y_train.shape, X_test.shape, y_test.shape"
   ]
  },
  {
   "cell_type": "code",
   "execution_count": null,
   "metadata": {},
   "outputs": [],
   "source": []
  },
  {
   "cell_type": "markdown",
   "metadata": {},
   "source": [
    "#### Feature Standardization\n",
    "\n",
    "* Standardization is a useful technique to transform attributes with a Gaussian distribution and differing means and standard deviations to a standard Gaussian distribution with a mean of 0 and a standard deviation of 1. \n",
    "\n",
    "* As seen in [NB2_Exploratory data analysis](https://github.com/ShiroJean/Breast-cancer-risk-prediction/blob/master/NB2_ExploratoryDataAnalysis.ipynb) the raw data has differing distributions which may have an impact on the most ML algorithms. Most machine learning and optimization algorithms behave much better if features are on the same scale.\n",
    "\n",
    "\n",
    "Let’s evaluate the same algorithms with a standardized copy of the dataset. Here, I use sklearn to scale and transform the data such that each attribute has a mean value of zero and a standard deviation of one\n"
   ]
  },
  {
   "cell_type": "code",
   "execution_count": 7,
   "metadata": {},
   "outputs": [
    {
     "name": "stderr",
     "output_type": "stream",
     "text": [
      "C:\\Users\\KIIT\\Anaconda3\\lib\\site-packages\\sklearn\\utils\\validation.py:595: DataConversionWarning: Data with input dtype object was converted to float64 by StandardScaler.\n",
      "  warnings.warn(msg, DataConversionWarning)\n",
      "C:\\Users\\KIIT\\Anaconda3\\lib\\site-packages\\sklearn\\utils\\validation.py:595: DataConversionWarning: Data with input dtype object was converted to float64 by StandardScaler.\n",
      "  warnings.warn(msg, DataConversionWarning)\n"
     ]
    }
   ],
   "source": [
    "from sklearn.preprocessing import StandardScaler\n",
    "\n",
    "# Normalize the  data (center around 0 and scale to remove the variance).\n",
    "scaler =StandardScaler()\n",
    "Xs = scaler.fit_transform(X)\n",
    "#print(Xs)"
   ]
  },
  {
   "cell_type": "markdown",
   "metadata": {},
   "source": [
    "#### Feature decomposition using Principal Component Analysis(  PCA)"
   ]
  },
  {
   "cell_type": "markdown",
   "metadata": {},
   "source": [
    "From the pair plot in NB2, lot of feature pairs divide nicely the data to a similar extent, therefore, it makes sense to use one of the dimensionality reduction methods to try to use as many features as possible and maintian as much information as possible when working with only 2 dimensions. I will use PCA\n",
    "\n"
   ]
  },
  {
   "cell_type": "code",
   "execution_count": 8,
   "metadata": {
    "scrolled": false
   },
   "outputs": [
    {
     "name": "stdout",
     "output_type": "stream",
     "text": [
      "[[ 2.18902444e-01  1.03724578e-01  2.27537293e-01  2.20994985e-01\n",
      "   1.42589694e-01  2.39285354e-01  2.58400481e-01  2.60853758e-01\n",
      "   1.38166959e-01  6.43633464e-02  2.05978776e-01  1.74280281e-02\n",
      "   2.11325916e-01  2.02869635e-01  1.45314521e-02  1.70393451e-01\n",
      "   1.53589790e-01  1.83417397e-01  4.24984216e-02  1.02568322e-01\n",
      "   2.27996634e-01  1.04469325e-01  2.36639681e-01  2.24870533e-01\n",
      "   1.27952561e-01  2.10095880e-01  2.28767533e-01  2.50885971e-01\n",
      "   1.22904556e-01  1.31783943e-01]\n",
      " [-2.33857132e-01 -5.97060883e-02 -2.15181361e-01 -2.31076711e-01\n",
      "   1.86113023e-01  1.51891610e-01  6.01653628e-02 -3.47675005e-02\n",
      "   1.90348770e-01  3.66575471e-01 -1.05552152e-01  8.99796818e-02\n",
      "  -8.94572342e-02 -1.52292628e-01  2.04430453e-01  2.32715896e-01\n",
      "   1.97207283e-01  1.30321560e-01  1.83848000e-01  2.80092027e-01\n",
      "  -2.19866379e-01 -4.54672983e-02 -1.99878428e-01 -2.19351858e-01\n",
      "   1.72304352e-01  1.43593173e-01  9.79641143e-02 -8.25723507e-03\n",
      "   1.41883349e-01  2.75339469e-01]\n",
      " [-8.53124284e-03  6.45499033e-02 -9.31421971e-03  2.86995259e-02\n",
      "  -1.04291904e-01 -7.40915708e-02  2.73383798e-03 -2.55635406e-02\n",
      "  -4.02399363e-02 -2.25740897e-02  2.68481387e-01  3.74633665e-01\n",
      "   2.66645367e-01  2.16006528e-01  3.08838979e-01  1.54779718e-01\n",
      "   1.76463743e-01  2.24657567e-01  2.88584292e-01  2.11503765e-01\n",
      "  -4.75069900e-02 -4.22978227e-02 -4.85465083e-02 -1.19023182e-02\n",
      "  -2.59797613e-01 -2.36075625e-01 -1.73057335e-01 -1.70344076e-01\n",
      "  -2.71312642e-01 -2.32791312e-01]\n",
      " [ 4.14089623e-02 -6.03050000e-01  4.19830991e-02  5.34337955e-02\n",
      "   1.59382765e-01  3.17945810e-02  1.91227535e-02  6.53359444e-02\n",
      "   6.71249839e-02  4.85867649e-02  9.79412419e-02 -3.59855528e-01\n",
      "   8.89924145e-02  1.08205039e-01  4.46641796e-02 -2.74693631e-02\n",
      "   1.31687992e-03  7.40673350e-02  4.40733509e-02  1.53047495e-02\n",
      "   1.54172396e-02 -6.32807885e-01  1.38027944e-02  2.58947493e-02\n",
      "   1.76522162e-02 -9.13284153e-02 -7.39511796e-02  6.00699567e-03\n",
      "  -3.62506945e-02 -7.70534704e-02]\n",
      " [ 3.77863538e-02 -4.94688500e-02  3.73746632e-02  1.03312515e-02\n",
      "  -3.65088528e-01  1.17039708e-02  8.63754117e-02 -4.38610249e-02\n",
      "  -3.05941428e-01 -4.44243601e-02 -1.54456496e-01 -1.91650505e-01\n",
      "  -1.20990220e-01 -1.27574432e-01 -2.32065676e-01  2.79968156e-01\n",
      "   3.53982091e-01  1.95548088e-01 -2.52868765e-01  2.63297437e-01\n",
      "  -4.40659205e-03 -9.28834008e-02  7.45415094e-03 -2.73909030e-02\n",
      "  -3.24435445e-01  1.21804107e-01  1.88518727e-01  4.33320690e-02\n",
      "  -2.44558663e-01  9.44233511e-02]\n",
      " [ 1.87407910e-02 -3.21788368e-02  1.73084451e-02 -1.88774755e-03\n",
      "  -2.86374497e-01 -1.41309518e-02 -9.34418191e-03 -5.20499481e-02\n",
      "   3.56458461e-01 -1.19430667e-01 -2.56032547e-02 -2.87473148e-02\n",
      "   1.81071574e-03 -4.28639098e-02 -3.42917394e-01  6.91975214e-02\n",
      "   5.63432407e-02 -3.12244502e-02  4.90245643e-01 -5.31952699e-02\n",
      "  -2.90684649e-04 -5.00080608e-02  8.50098687e-03 -2.51643833e-02\n",
      "  -3.69255370e-01  4.77057920e-02  2.83792530e-02 -3.08734475e-02\n",
      "   4.98926784e-01 -8.02235224e-02]\n",
      " [-1.24088322e-01  1.13995934e-02 -1.14477053e-01 -5.16534082e-02\n",
      "  -1.40668992e-01  3.09183876e-02 -1.07520488e-01 -1.50482154e-01\n",
      "  -9.38911300e-02  2.95760068e-01  3.12490083e-01 -9.07553386e-02\n",
      "   3.14640407e-01  3.46678947e-01 -2.44024066e-01  2.34636289e-02\n",
      "  -2.08823738e-01 -3.69646008e-01 -8.03822665e-02  1.91394911e-01\n",
      "  -9.70993012e-03  9.87067780e-03 -4.45740039e-04  6.78316282e-02\n",
      "  -1.08830875e-01  1.40472915e-01 -6.04881015e-02 -1.67966527e-01\n",
      "  -1.84906283e-02  3.74657652e-01]\n",
      " [-7.45231302e-03  1.30674740e-01 -1.86872348e-02  3.46735774e-02\n",
      "  -2.88974556e-01 -1.51396028e-01 -7.28272541e-02 -1.52322765e-01\n",
      "  -2.31531022e-01 -1.77121437e-01  2.25398136e-02 -4.75413148e-01\n",
      "  -1.18967306e-02  8.58053446e-02  5.73410288e-01  1.17459811e-01\n",
      "   6.05662510e-02 -1.08319128e-01  2.20149267e-01  1.11685128e-02\n",
      "   4.26193692e-02  3.62517320e-02  3.05585639e-02  7.93942968e-02\n",
      "   2.05852129e-01  8.40197778e-02  7.24682368e-02 -3.61709228e-02\n",
      "   2.28225110e-01  4.83603291e-02]\n",
      " [-2.23109641e-01  1.12700000e-01 -2.23739162e-01 -1.95585886e-01\n",
      "   6.42472165e-03 -1.67841858e-01  4.05906738e-02 -1.11971192e-01\n",
      "   2.56040006e-01 -1.23740334e-01  2.49985238e-01 -2.46645141e-01\n",
      "   2.27153977e-01  2.29159909e-01 -1.41924926e-01 -1.45322531e-01\n",
      "   3.58107025e-01  2.72519606e-01 -3.04077422e-01 -2.13722679e-01\n",
      "  -1.12141471e-01  1.03340436e-01 -1.09614477e-01 -8.07325889e-02\n",
      "   1.12315973e-01 -1.00677800e-01  1.61908946e-01  6.04890204e-02\n",
      "   6.46380511e-02 -1.34174633e-01]\n",
      " [ 9.54861795e-02  2.40936033e-01  8.63852133e-02  7.49564644e-02\n",
      "  -6.92930708e-02  1.29352324e-02 -1.35601881e-01  8.05591742e-03\n",
      "   5.72069167e-01  8.11030473e-02 -4.95466367e-02 -2.89141963e-01\n",
      "  -1.14508984e-01 -9.19283915e-02  1.60884074e-01  4.35060792e-02\n",
      "  -1.41275859e-01  8.62408028e-02 -3.16530310e-01  3.67540875e-01\n",
      "   7.73619722e-02  2.95483900e-02  5.05080274e-02  6.99217212e-02\n",
      "  -1.28303819e-01 -1.72133826e-01 -3.11639604e-01 -7.66488530e-02\n",
      "  -2.95624092e-02  1.26105211e-02]]\n"
     ]
    }
   ],
   "source": [
    "from sklearn.decomposition import PCA\n",
    "# feature extraction\n",
    "pca = PCA(n_components=10)\n",
    "fit = pca.fit(Xs)\n",
    "\n",
    "# summarize components\n",
    "#print(\"Explained Variance: %s\") % fit.explained_variance_ratio_\n",
    "print(fit.components_)"
   ]
  },
  {
   "cell_type": "code",
   "execution_count": null,
   "metadata": {},
   "outputs": [],
   "source": []
  },
  {
   "cell_type": "code",
   "execution_count": 18,
   "metadata": {
    "scrolled": true
   },
   "outputs": [
    {
     "data": {
      "image/png": "[encoded data removed]",
      "text/plain": [
       "<Figure size 576x288 with 1 Axes>"
      ]
     },
     "metadata": {},
     "output_type": "display_data"
    }
   ],
   "source": [
    "X_pca = pca.transform(Xs)\n",
    "\n",
    "PCA_df = pd.DataFrame()\n",
    "\n",
    "PCA_df['PCA_1'] = X_pca[:,0]\n",
    "PCA_df['PCA_2'] = X_pca[:,1]\n",
    "\n",
    "plt.plot(PCA_df['PCA_1'][data.diagnosis == 'M'],PCA_df['PCA_2'][data.diagnosis == 'M'],'o', alpha = 0.7, color = 'r')\n",
    "plt.plot(PCA_df['PCA_1'][data.diagnosis == 'B'],PCA_df['PCA_2'][data.diagnosis == 'B'],'o', alpha = 0.7, color = 'b')\n",
    "\n",
    "plt.xlabel('PCA_1')\n",
    "plt.ylabel('PCA_2')\n",
    "plt.legend(['Malignant','Benign'])\n",
    "plt.show()"
   ]
  },
  {
   "cell_type": "markdown",
   "metadata": {},
   "source": [
    "Now, what we got after applying the linear PCA transformation is a lower dimensional subspace (from 3D to 2D in this case), where the samples are “most spread” along the new feature axes.\n",
    "\n"
   ]
  },
  {
   "cell_type": "code",
   "execution_count": 26,
   "metadata": {},
   "outputs": [
    {
     "name": "stdout",
     "output_type": "stream",
     "text": [
      "[44.27 63.24 72.63 79.23 84.73 88.75 91.   92.59 93.98 95.15]\n"
     ]
    }
   ],
   "source": [
    "#The amount of variance that each PC explains\n",
    "var= pca.explained_variance_ratio_\n",
    "#Cumulative Variance explains\n",
    "var1=np.cumsum(np.round(pca.explained_variance_ratio_, decimals=4)*100)\n",
    "print(var1)"
   ]
  },
  {
   "cell_type": "markdown",
   "metadata": {},
   "source": [
    "## Deciding How Many Principal Components to Retain"
   ]
  },
  {
   "cell_type": "markdown",
   "metadata": {},
   "source": [
    "In order to decide how many principal components should be retained, it is common to summarise the results of a principal components analysis by making a scree plot. More about scree plot can be found [here](http://python-for-multivariate-analysis.readthedocs.io/a_little_book_of_python_for_multivariate_analysis.html), and [hear](https://www.analyticsvidhya.com/blog/2016/03/practical-guide-principal-component-analysis-python/) "
   ]
  },
  {
   "cell_type": "code",
   "execution_count": 29,
   "metadata": {},
   "outputs": [
    {
     "name": "stdout",
     "output_type": "stream",
     "text": [
      "[44.27 63.24 72.63 79.23 84.73 88.75 91.   92.59 93.98 95.15]\n"
     ]
    },
    {
     "data": {
      "image/png": "[encoded data removed]",
      "text/plain": [
       "<Figure size 576x288 with 1 Axes>"
      ]
     },
     "metadata": {},
     "output_type": "display_data"
    }
   ],
   "source": [
    "#The amount of variance that each PC explains\n",
    "var= pca.explained_variance_ratio_\n",
    "#Cumulative Variance explains\n",
    "var1=np.cumsum(np.round(pca.explained_variance_ratio_, decimals=4)*100)\n",
    "print(var1)\n",
    "\n",
    "plt.plot(var)\n",
    "plt.title('Scree Plot')\n",
    "plt.xlabel('Principal Component')\n",
    "plt.ylabel('Eigenvalue')\n",
    "\n",
    "leg = plt.legend(['Eigenvalues from PCA'], loc='best', borderpad=0.3,shadow=False,markerscale=0.4)\n",
    "leg.get_frame().set_alpha(0.4)\n",
    "#leg.draggable(state=True)\n",
    "plt.show()"
   ]
  },
  {
   "cell_type": "markdown",
   "metadata": {
    "collapsed": true
   },
   "source": [
    "> #### Observation\n",
    "The most obvious change in slope in the scree plot occurs at component 2, which is the “elbow” of the scree plot. Therefore, it cound be argued based on the basis of the scree plot that the first three components should be retained."
   ]
  },
  {
   "cell_type": "markdown",
   "metadata": {},
   "source": [
    "### A Summary of the Data Preprocing Approach used here:\n",
    "\n",
    "1. assign features to a NumPy array X, and transform the class labels from their original string representation (M and B) into integers\n",
    "2. Split data into training and test sets\n",
    "3. Standardize the data.\n",
    "4. Obtain the Eigenvectors and Eigenvalues from the covariance matrix or correlation matrix\n",
    "5. Sort eigenvalues in descending order and choose the kk eigenvectors that correspond to the kk largest eigenvalues where k is the number of dimensions of the new feature subspace (k≤dk≤d).\n",
    "6. Construct the projection matrix W from the selected k eigenvectors.\n",
    "7. Transform the original dataset X via W to obtain a k-dimensional feature subspace Y.\n"
   ]
  },
  {
   "cell_type": "markdown",
   "metadata": {},
   "source": [
    "It is common to select a subset of features that have the largest correlation with the class labels. The effect of feature selection must be assessed within a complete modeling pipeline in order to give you an unbiased estimated of your model's true performance. Hence, in the next section you will first be introduced to cross-validation, before applying the PCA-based feature selection strategy in the model building pipeline.\n"
   ]
  }
 ],
 "metadata": {
  "anaconda-cloud": {},
  "kernelspec": {
   "display_name": "Python 3",
   "language": "python",
   "name": "python3"
  },
  "language_info": {
   "codemirror_mode": {
    "name": "ipython",
    "version": 3
   },
   "file_extension": ".py",
   "mimetype": "text/x-python",
   "name": "python",
   "nbconvert_exporter": "python",
   "pygments_lexer": "ipython3",
   "version": "3.7.1"
  }
 },
 "nbformat": 4,
 "nbformat_minor": 2
}
